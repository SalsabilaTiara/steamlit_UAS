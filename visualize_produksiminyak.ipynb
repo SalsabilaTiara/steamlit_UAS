{
 "cells": [
  {
   "cell_type": "code",
   "execution_count": 212,
   "metadata": {},
   "outputs": [],
   "source": [
    "# import packages\n",
    "from os import name\n",
    "import pandas as pd\n",
    "import numpy as np\n",
    "import matplotlib.pyplot as plt\n",
    "from matplotlib import cm\n",
    "import json"
   ]
  },
  {
   "cell_type": "code",
   "execution_count": 213,
   "metadata": {},
   "outputs": [
    {
     "data": {
      "text/html": [
       "<div>\n",
       "<style scoped>\n",
       "    .dataframe tbody tr th:only-of-type {\n",
       "        vertical-align: middle;\n",
       "    }\n",
       "\n",
       "    .dataframe tbody tr th {\n",
       "        vertical-align: top;\n",
       "    }\n",
       "\n",
       "    .dataframe thead th {\n",
       "        text-align: right;\n",
       "    }\n",
       "</style>\n",
       "<table border=\"1\" class=\"dataframe\">\n",
       "  <thead>\n",
       "    <tr style=\"text-align: right;\">\n",
       "      <th></th>\n",
       "      <th>kode_negara</th>\n",
       "      <th>tahun</th>\n",
       "      <th>produksi</th>\n",
       "    </tr>\n",
       "  </thead>\n",
       "  <tbody>\n",
       "    <tr>\n",
       "      <th>0</th>\n",
       "      <td>AUS</td>\n",
       "      <td>1971</td>\n",
       "      <td>14226.194</td>\n",
       "    </tr>\n",
       "    <tr>\n",
       "      <th>1</th>\n",
       "      <td>AUS</td>\n",
       "      <td>1972</td>\n",
       "      <td>15029.094</td>\n",
       "    </tr>\n",
       "    <tr>\n",
       "      <th>2</th>\n",
       "      <td>AUS</td>\n",
       "      <td>1973</td>\n",
       "      <td>18720.577</td>\n",
       "    </tr>\n",
       "    <tr>\n",
       "      <th>3</th>\n",
       "      <td>AUS</td>\n",
       "      <td>1974</td>\n",
       "      <td>18498.696</td>\n",
       "    </tr>\n",
       "    <tr>\n",
       "      <th>4</th>\n",
       "      <td>AUS</td>\n",
       "      <td>1975</td>\n",
       "      <td>19736.070</td>\n",
       "    </tr>\n",
       "    <tr>\n",
       "      <th>...</th>\n",
       "      <td>...</td>\n",
       "      <td>...</td>\n",
       "      <td>...</td>\n",
       "    </tr>\n",
       "    <tr>\n",
       "      <th>5834</th>\n",
       "      <td>ZWE</td>\n",
       "      <td>2011</td>\n",
       "      <td>0.000</td>\n",
       "    </tr>\n",
       "    <tr>\n",
       "      <th>5835</th>\n",
       "      <td>ZWE</td>\n",
       "      <td>2012</td>\n",
       "      <td>0.000</td>\n",
       "    </tr>\n",
       "    <tr>\n",
       "      <th>5836</th>\n",
       "      <td>ZWE</td>\n",
       "      <td>2013</td>\n",
       "      <td>0.000</td>\n",
       "    </tr>\n",
       "    <tr>\n",
       "      <th>5837</th>\n",
       "      <td>ZWE</td>\n",
       "      <td>2014</td>\n",
       "      <td>0.000</td>\n",
       "    </tr>\n",
       "    <tr>\n",
       "      <th>5838</th>\n",
       "      <td>ZWE</td>\n",
       "      <td>2015</td>\n",
       "      <td>0.000</td>\n",
       "    </tr>\n",
       "  </tbody>\n",
       "</table>\n",
       "<p>5839 rows × 3 columns</p>\n",
       "</div>"
      ],
      "text/plain": [
       "     kode_negara  tahun   produksi\n",
       "0            AUS   1971  14226.194\n",
       "1            AUS   1972  15029.094\n",
       "2            AUS   1973  18720.577\n",
       "3            AUS   1974  18498.696\n",
       "4            AUS   1975  19736.070\n",
       "...          ...    ...        ...\n",
       "5834         ZWE   2011      0.000\n",
       "5835         ZWE   2012      0.000\n",
       "5836         ZWE   2013      0.000\n",
       "5837         ZWE   2014      0.000\n",
       "5838         ZWE   2015      0.000\n",
       "\n",
       "[5839 rows x 3 columns]"
      ]
     },
     "execution_count": 213,
     "metadata": {},
     "output_type": "execute_result"
    }
   ],
   "source": [
    "#data set 1\n",
    "file = \"C:\\\\Users\\\\Public\\\\Documents\\\\Python\\\\UAS_12220113\\\\produksi_minyak_mentah.csv\"\n",
    "df = pd.read_csv(file)\n",
    "df"
   ]
  },
  {
   "cell_type": "code",
   "execution_count": 214,
   "metadata": {},
   "outputs": [
    {
     "name": "stdout",
     "output_type": "stream",
     "text": [
      "                  name alpha-3\n",
      "0          Afghanistan     AFG\n",
      "1        Åland Islands     ALA\n",
      "2              Albania     ALB\n",
      "3              Algeria     DZA\n",
      "4       American Samoa     ASM\n",
      "..                 ...     ...\n",
      "244  Wallis and Futuna     WLF\n",
      "245     Western Sahara     ESH\n",
      "246              Yemen     YEM\n",
      "247             Zambia     ZMB\n",
      "248           Zimbabwe     ZWE\n",
      "\n",
      "[249 rows x 2 columns]\n"
     ]
    }
   ],
   "source": [
    "#data set 2\n",
    "kode = pd.read_json('C:\\\\Users\\\\Public\\\\Documents\\\\Python\\\\UAS_12220113\\\\kode_negara_lengkap.json')\n",
    "data = pd.DataFrame(kode, columns= ['name','alpha-3'])\n",
    "print(data)"
   ]
  },
  {
   "cell_type": "code",
   "execution_count": 215,
   "metadata": {},
   "outputs": [
    {
     "name": "stdout",
     "output_type": "stream",
     "text": [
      "['AUS', 'AUT', 'BEL', 'CAN', 'CZE', 'DNK', 'FIN', 'FRA', 'DEU', 'GRC', 'HUN', 'ISL', 'IRL', 'ITA', 'JPN', 'KOR', 'LUX', 'MEX', 'NLD', 'NZL', 'NOR', 'POL', 'PRT', 'SVK', 'ESP', 'SWE', 'CHE', 'TUR', 'GBR', 'USA', 'OEU', 'ALB', 'DZA', 'ARG', 'ARM', 'AZE', 'BGD', 'BLR', 'BIH', 'BRA', 'BRN', 'BGR', 'KHM', 'CHL', 'CHN', 'COL', 'HRV', 'CYP', 'EGY', 'EST', 'ETH', 'GEO', 'GHA', 'HTI', 'HKG', 'IND', 'IDN', 'IRN', 'ISR', 'KAZ', 'LVA', 'LTU', 'MKD', 'MYS', 'MLT', 'MDA', 'MOZ', 'NGA', 'PAK', 'PRY', 'PER', 'PHL', 'ROU', 'RUS', 'SAU', 'SGP', 'SVN', 'ZAF', 'SDN', 'TWN', 'TZA', 'THA', 'UKR', 'ARE', 'URY', 'VNM', 'ZMB', 'WLD', 'SRB', 'MNE', 'EU28', 'G20', 'OECD', 'AGO', 'BHR', 'BEN', 'BOL', 'BWA', 'CMR', 'COG', 'CRI', 'CIV', 'CUB', 'PRK', 'COD', 'DOM', 'ECU', 'SLV', 'ERI', 'GAB', 'GTM', 'HND', 'IRQ', 'JAM', 'JOR', 'KEN', 'KWT', 'KGZ', 'LBN', 'LBY', 'MNG', 'MAR', 'MMR', 'NAM', 'NPL', 'NIC', 'NER', 'OMN', 'PAN', 'QAT', 'SEN', 'LKA', 'SYR', 'TJK', 'TGO', 'TTO', 'TUN', 'TKM', 'UZB', 'VEN', 'YEM', 'ZWE']\n",
      "['Australia', 'Austria', 'Belgium', 'Canada', 'Czechia', 'Denmark', 'Finland', 'France', 'Germany', 'Greece', 'Hungary', 'Iceland', 'Ireland', 'Italy', 'Japan', 'Korea, Republic of', 'Luxembourg', 'Mexico', 'Netherlands', 'New Zealand', 'Norway', 'Poland', 'Portugal', 'Slovakia', 'Spain', 'Sweden', 'Switzerland', 'Turkey', 'United Kingdom of Great Britain and Northern Ireland', 'United States of America', None, 'Albania', 'Algeria', 'Argentina', 'Armenia', 'Azerbaijan', 'Bangladesh', 'Belarus', 'Bosnia and Herzegovina', 'Brazil', 'Brunei Darussalam', 'Bulgaria', 'Cambodia', 'Chile', 'China', 'Colombia', 'Croatia', 'Cyprus', 'Egypt', 'Estonia', 'Ethiopia', 'Georgia', 'Ghana', 'Haiti', 'Hong Kong', 'India', 'Indonesia', 'Iran (Islamic Republic of)', 'Israel', 'Kazakhstan', 'Latvia', 'Lithuania', 'North Macedonia', 'Malaysia', 'Malta', 'Moldova, Republic of', 'Mozambique', 'Nigeria', 'Pakistan', 'Paraguay', 'Peru', 'Philippines', 'Romania', 'Russian Federation', 'Saudi Arabia', 'Singapore', 'Slovenia', 'South Africa', 'Sudan', 'Taiwan, Province of China', 'Tanzania, United Republic of', 'Thailand', 'Ukraine', 'United Arab Emirates', 'Uruguay', 'Viet Nam', 'Zambia', None, 'Serbia', 'Montenegro', None, None, None, 'Angola', 'Bahrain', 'Benin', 'Bolivia (Plurinational State of)', 'Botswana', 'Cameroon', 'Congo', 'Costa Rica', \"Côte d'Ivoire\", 'Cuba', \"Korea (Democratic People's Republic of)\", 'Congo, Democratic Republic of the', 'Dominican Republic', 'Ecuador', 'El Salvador', 'Eritrea', 'Gabon', 'Guatemala', 'Honduras', 'Iraq', 'Jamaica', 'Jordan', 'Kenya', 'Kuwait', 'Kyrgyzstan', 'Lebanon', 'Libya', 'Mongolia', 'Morocco', 'Myanmar', 'Namibia', 'Nepal', 'Nicaragua', 'Niger', 'Oman', 'Panama', 'Qatar', 'Senegal', 'Sri Lanka', 'Syrian Arab Republic', 'Tajikistan', 'Togo', 'Trinidad and Tobago', 'Tunisia', 'Turkmenistan', 'Uzbekistan', 'Venezuela (Bolivarian Republic of)', 'Yemen', 'Zimbabwe']\n",
      "[1971, 1972, 1973, 1974, 1975, 1976, 1977, 1978, 1979, 1980, 1981, 1982, 1983, 1984, 1985, 1986, 1987, 1988, 1989, 1990, 1991, 1992, 1993, 1994, 1995, 1996, 1997, 1998, 1999, 2000, 2001, 2002, 2003, 2004, 2005, 2006, 2007, 2008, 2009, 2010, 2011, 2012, 2013, 2014, 2015]\n"
     ]
    }
   ],
   "source": [
    "kode_dict = dict(data.values.tolist())\n",
    "list_kode = list(df['kode_negara'].unique())\n",
    "\n",
    "list_negara=[]\n",
    "kode_dict2 = {value:key for key, value in kode_dict.items()}\n",
    "list_negara = list(map(kode_dict2.get, list_kode))\n",
    "list_tahun = list(range(1971,2016))\n",
    "print(list_kode)\n",
    "print(list_negara)\n",
    "print(list_tahun)"
   ]
  },
  {
   "cell_type": "code",
   "execution_count": 216,
   "metadata": {},
   "outputs": [],
   "source": [
    "#assume\n",
    "negara = ('Australia')\n",
    "tahun = 1971\n",
    "B_besar = 10"
   ]
  },
  {
   "cell_type": "code",
   "execution_count": 217,
   "metadata": {},
   "outputs": [
    {
     "name": "stdout",
     "output_type": "stream",
     "text": [
      "   kode_negara  tahun   produksi\n",
      "0          AUS   1971  14226.194\n",
      "1          AUS   1972  15029.094\n",
      "2          AUS   1973  18720.577\n",
      "3          AUS   1974  18498.696\n",
      "4          AUS   1975  19736.070\n",
      "5          AUS   1976  20177.769\n",
      "6          AUS   1977  21259.310\n",
      "7          AUS   1978  20694.803\n",
      "8          AUS   1979  20828.964\n",
      "9          AUS   1980  19471.877\n",
      "10         AUS   1981  19007.475\n",
      "11         AUS   1982  18706.129\n",
      "12         AUS   1983  18220.054\n",
      "13         AUS   1984  22148.899\n",
      "14         AUS   1985  25468.860\n",
      "15         AUS   1986  26561.559\n",
      "16         AUS   1987  26399.764\n",
      "17         AUS   1988  26322.923\n",
      "18         AUS   1989  23679.705\n",
      "19         AUS   1990  26752.604\n",
      "20         AUS   1991  26717.935\n",
      "21         AUS   1992  23439.126\n",
      "22         AUS   1993  22940.108\n",
      "23         AUS   1994  21286.521\n",
      "24         AUS   1995  22718.440\n",
      "25         AUS   1996  20539.570\n",
      "26         AUS   1997  20494.396\n",
      "27         AUS   1998  22008.258\n",
      "28         AUS   1999  16551.631\n",
      "29         AUS   2000  25081.157\n",
      "30         AUS   2001  26611.828\n",
      "31         AUS   2002  30307.711\n",
      "32         AUS   2003  29403.176\n",
      "33         AUS   2004  25785.035\n",
      "34         AUS   2005  22928.552\n",
      "35         AUS   2006  20414.553\n",
      "36         AUS   2007  23214.306\n",
      "37         AUS   2008  21500.836\n",
      "38         AUS   2009  22170.045\n",
      "39         AUS   2010  23141.817\n",
      "40         AUS   2011  22232.029\n",
      "41         AUS   2012  20728.672\n",
      "42         AUS   2013  17979.347\n",
      "43         AUS   2014  16925.631\n",
      "44         AUS   2015  16313.153\n"
     ]
    }
   ],
   "source": [
    "if negara in kode_dict.keys():\n",
    "    group = dict(tuple(df.groupby('kode_negara')))\n",
    "    df_negara = (group[kode_dict[negara]])\n",
    "else: print('error')\n",
    "print(df_negara)"
   ]
  },
  {
   "cell_type": "code",
   "execution_count": 218,
   "metadata": {},
   "outputs": [
    {
     "data": {
      "image/png": "[encoded data removed]",
      "text/plain": [
       "<Figure size 432x288 with 1 Axes>"
      ]
     },
     "metadata": {
      "needs_background": "light"
     },
     "output_type": "display_data"
    }
   ],
   "source": [
    "cmap_name = 'tab20b'\n",
    "cmap = cm.get_cmap(cmap_name)\n",
    "colors = cmap.colors[:len(df_negara['tahun'])]\n",
    "produksinegara = df_negara['produksi'].tolist()\n",
    "x = np.arange(len(list_tahun))\n",
    "fig, ax = plt.subplots()\n",
    "ax.bar(x, produksinegara, color=colors, label='produksi negara')\n",
    "ax.set_ylabel(\"Produk Minyak Mentah\", fontsize=12)\n",
    "ax.set_title(negara)\n",
    "ax.set_xticks(x)\n",
    "ax.set_xticklabels(list_tahun, rotation=90, fontsize = 8)\n",
    "plt.show()"
   ]
  },
  {
   "cell_type": "code",
   "execution_count": 219,
   "metadata": {},
   "outputs": [
    {
     "name": "stdout",
     "output_type": "stream",
     "text": [
      "[983323, 57085, 0, 3973064, 5714, 359065, 0, 75399, 178650, 15284, 66774, 0, 0, 170618, 18573, 406, 0, 5771613, 95629, 61966, 3562696, 21191, 0, 2583, 38226, 124, 0, 125982, 3585340, 16724113, 47208, 2082973, 1318433, 0, 620298, 218, 47492, 0, 2176685, 391486, 4389, 0, 34922, 6422416, 1085190, 29984, 0, 1517335, 0, 0, 2217, 24223, 0, 0, 1242542, 2906820, 8376438, 29385, 1333990, 0, 4606, 0, 1134025, 0, 118, 402, 4457218, 99002, 0, 274741, 18456, 366994, 10702740, 17711742, 0, 17, 7902, 240433, 4081, 0, 197989, 75594, 4334991, 0, 361387, 0, 24857, 0, 1651723, 417384, 3061, 82928, 0, 204485, 386389, 0, 35411, 70682, 0, 50376, 0, 778214, 0, 0, 540496, 22741, 0, 4471424, 0, 85, 0, 4654127, 2229, 0, 3217142, 4619, 576, 42826, 0, 0, 0, 3205, 1523014, 0, 1194524, 17, 0, 740856, 875, 0, 334206, 195860, 206872, 139117, 6573328, 397967, 0]\n"
     ]
    }
   ],
   "source": [
    "\n",
    "total_produksi = []\n",
    "for i in list_negara:\n",
    "    if i not in kode_dict.keys():\n",
    "        continue\n",
    "    group = dict(tuple(df.groupby('kode_negara')))\n",
    "    df_negara = (group[kode_dict[i]])\n",
    "    jumlah_produksi = df_negara['produksi'].astype(int).sum()\n",
    "    total_produksi.append(jumlah_produksi)\n",
    "print(total_produksi)"
   ]
  },
  {
   "cell_type": "code",
   "execution_count": null,
   "metadata": {},
   "outputs": [
    {
     "name": "stdout",
     "output_type": "stream",
     "text": [
      "[14226.194, 2628.081, 0.0, 67007.824, 34.93, 0.0, 0.0, 1861.644, 7723.824, 0.0, 1944.414, 0.0, 0.0, 1254.013, 763.351, 0.0, 0.0, 23640.056, 1748.102, 0.0, 287.213, 396.245, 0.0, 158.666, 127.38, 0.0, 0.0, 3528.843, 97.337, 482149.55, 1657.0, 38101.314, 21908.076, 0.0, 0.0, 0.0, 0.0, 0.0, 8520.78, 6474.126, 310.493, 0.0, 1561.086, 40119.734, 11227.193, 0.0, 0.0, 15201.432, 0.0, 0.0, 0.0, 0.0, 0.0, 0.0, 7459.561, 44946.941, 230174.161, 5829.823, 0.0, 0.0, 0.0, 0.0, 3341.492, 0.0, 0.0, 0.0, 77109.593, 417.384, 0.0, 3172.23, 0.0, 13390.095, 0.0, 241141.895, 0.0, 0.0, 0.0, 0.0, 112.331, 0.0, 13.234, 0.0, 51909.402, 0.0, 0.0, 0.0, 0.0, 0.0, 5841.11, 9909.216, 0.0, 1959.238, 0.0, 0.0, 15.375, 0.0, 0.0, 118.424, 0.0, 0.0, 0.0, 181.544, 0.0, 0.0, 5889.182, 0.0, 0.0, 85181.19, 0.0, 0.0, 0.0, 155964.539, 0.0, 0.0, 136070.985, 0.0, 21.39, 879.852, 0.0, 0.0, 0.0, 0.0, 15058.133, 0.0, 21202.2, 0.0, 0.0, 5310.096, 0.0, 0.0, 6513.124, 4232.266, 0.0, 0.0, 197992.167, 0.0, 0.0]\n"
     ]
    }
   ],
   "source": [
    "produksi_tahun =[]\n",
    "for i in list_negara:\n",
    "    if i not in kode_dict.keys():\n",
    "        continue\n",
    "    group = dict(tuple(df.groupby('kode_negara')))\n",
    "    df_negara = (group[kode_dict[i]])\n",
    "    prodtahun = df_negara.loc[df['tahun'] == tahun]\n",
    "    produksiterbesar  = prodtahun['produksi'].sum()\n",
    "    produksi_tahun.append(produksiterbesar)\n",
    "print(produksi_tahun)"
   ]
  },
  {
   "cell_type": "code",
   "execution_count": null,
   "metadata": {},
   "outputs": [
    {
     "name": "stdout",
     "output_type": "stream",
     "text": [
      "                                   name alpha-3    region  \\\n",
      "2                               Albania     ALB    Europe   \n",
      "3                               Algeria     DZA    Africa   \n",
      "6                                Angola     AGO    Africa   \n",
      "10                            Argentina     ARG  Americas   \n",
      "11                              Armenia     ARM      Asia   \n",
      "..                                  ...     ...       ...   \n",
      "240  Venezuela (Bolivarian Republic of)     VEN  Americas   \n",
      "241                            Viet Nam     VNM      Asia   \n",
      "246                               Yemen     YEM      Asia   \n",
      "247                              Zambia     ZMB    Africa   \n",
      "248                            Zimbabwe     ZWE    Africa   \n",
      "\n",
      "                          sub-region  \n",
      "2                    Southern Europe  \n",
      "3                    Northern Africa  \n",
      "6                 Sub-Saharan Africa  \n",
      "10   Latin America and the Caribbean  \n",
      "11                      Western Asia  \n",
      "..                               ...  \n",
      "240  Latin America and the Caribbean  \n",
      "241               South-eastern Asia  \n",
      "246                     Western Asia  \n",
      "247               Sub-Saharan Africa  \n",
      "248               Sub-Saharan Africa  \n",
      "\n",
      "[137 rows x 4 columns]\n"
     ]
    }
   ],
   "source": [
    "newdata = pd.DataFrame(kode, columns= ['name','alpha-3','region','sub-region'])\n",
    "newdata2 = newdata[newdata['alpha-3'].isin(list_kode)]\n",
    "print(newdata2)"
   ]
  },
  {
   "cell_type": "code",
   "execution_count": null,
   "metadata": {},
   "outputs": [
    {
     "name": "stdout",
     "output_type": "stream",
     "text": [
      "                                      negara kode Negara    region  \\\n",
      "18                                Bangladesh         BGD      Asia   \n",
      "21                                   Belgium         BEL    Europe   \n",
      "23                                     Benin         BEN    Africa   \n",
      "39                                  Cameroon         CMR    Africa   \n",
      "51         Congo, Democratic Republic of the         COD    Africa   \n",
      "53                                Costa Rica         CRI  Americas   \n",
      "54                             Côte d'Ivoire         CIV    Africa   \n",
      "58                                    Cyprus         CYP      Asia   \n",
      "60                                   Denmark         DNK    Europe   \n",
      "63                        Dominican Republic         DOM  Americas   \n",
      "66                               El Salvador         SLV  Americas   \n",
      "71                                  Ethiopia         ETH    Africa   \n",
      "75                                   Finland         FIN    Europe   \n",
      "84                                     Ghana         GHA    Africa   \n",
      "86                                    Greece         GRC    Europe   \n",
      "91                                 Guatemala         GTM  Americas   \n",
      "96                                     Haiti         HTI  Americas   \n",
      "99                                  Honduras         HND  Americas   \n",
      "100                                Hong Kong         HKG      Asia   \n",
      "102                                  Iceland         ISL    Europe   \n",
      "107                                  Ireland         IRL    Europe   \n",
      "111                                  Jamaica         JAM  Americas   \n",
      "114                                   Jordan         JOR      Asia   \n",
      "116                                    Kenya         KEN    Africa   \n",
      "118  Korea (Democratic People's Republic of)         PRK      Asia   \n",
      "119                       Korea, Republic of         KOR      Asia   \n",
      "124                                  Lebanon         LBN      Asia   \n",
      "130                               Luxembourg         LUX    Europe   \n",
      "137                                    Malta         MLT    Europe   \n",
      "151                               Mozambique         MOZ    Africa   \n",
      "155                                    Nepal         NPL      Asia   \n",
      "158                              New Zealand         NZL   Oceania   \n",
      "159                                Nicaragua         NIC  Americas   \n",
      "171                                   Panama         PAN  Americas   \n",
      "173                                 Paraguay         PRY  Americas   \n",
      "175                              Philippines         PHL      Asia   \n",
      "178                                 Portugal         PRT    Europe   \n",
      "196                                  Senegal         SEN    Africa   \n",
      "200                                Singapore         SGP      Asia   \n",
      "206                             South Africa         ZAF    Africa   \n",
      "210                                Sri Lanka         LKA      Asia   \n",
      "211                                    Sudan         SDN    Africa   \n",
      "214                                   Sweden         SWE    Europe   \n",
      "215                              Switzerland         CHE    Europe   \n",
      "219             Tanzania, United Republic of         TZA    Africa   \n",
      "222                                     Togo         TGO    Africa   \n",
      "237                                  Uruguay         URY  Americas   \n",
      "241                                 Viet Nam         VNM      Asia   \n",
      "246                                    Yemen         YEM      Asia   \n",
      "247                                   Zambia         ZMB    Africa   \n",
      "248                                 Zimbabwe         ZWE    Africa   \n",
      "\n",
      "                          sub-region  kumulatif produksi  \n",
      "18                     Southern Asia                 218  \n",
      "21                    Western Europe                   0  \n",
      "23                Sub-Saharan Africa                3061  \n",
      "39                Sub-Saharan Africa              204485  \n",
      "51                Sub-Saharan Africa               50376  \n",
      "53   Latin America and the Caribbean                   0  \n",
      "54                Sub-Saharan Africa               35411  \n",
      "58                      Western Asia                   0  \n",
      "60                   Northern Europe              359065  \n",
      "63   Latin America and the Caribbean                   0  \n",
      "66   Latin America and the Caribbean                   0  \n",
      "71                Sub-Saharan Africa                   0  \n",
      "75                   Northern Europe                   0  \n",
      "84                Sub-Saharan Africa               24223  \n",
      "86                   Southern Europe               15284  \n",
      "91   Latin America and the Caribbean               22741  \n",
      "96   Latin America and the Caribbean                   0  \n",
      "99   Latin America and the Caribbean                   0  \n",
      "100                     Eastern Asia                   0  \n",
      "102                  Northern Europe                   0  \n",
      "107                  Northern Europe                   0  \n",
      "111  Latin America and the Caribbean                   0  \n",
      "114                     Western Asia                  85  \n",
      "116               Sub-Saharan Africa                   0  \n",
      "118                     Eastern Asia                   0  \n",
      "119                     Eastern Asia                 406  \n",
      "124                     Western Asia                   0  \n",
      "130                   Western Europe                   0  \n",
      "137                  Southern Europe                   0  \n",
      "151               Sub-Saharan Africa                 402  \n",
      "155                    Southern Asia                   0  \n",
      "158        Australia and New Zealand               61966  \n",
      "159  Latin America and the Caribbean                   0  \n",
      "171  Latin America and the Caribbean                   0  \n",
      "173  Latin America and the Caribbean                   0  \n",
      "175               South-eastern Asia               18456  \n",
      "178                  Southern Europe                   0  \n",
      "196               Sub-Saharan Africa                  17  \n",
      "200               South-eastern Asia                   0  \n",
      "206               Sub-Saharan Africa                7902  \n",
      "210                    Southern Asia                   0  \n",
      "211                  Northern Africa              240433  \n",
      "214                  Northern Europe                 124  \n",
      "215                   Western Europe                   0  \n",
      "219               Sub-Saharan Africa                   0  \n",
      "222               Sub-Saharan Africa                   0  \n",
      "237  Latin America and the Caribbean                   0  \n",
      "241               South-eastern Asia              361387  \n",
      "246                     Western Asia              397967  \n",
      "247               Sub-Saharan Africa                   0  \n",
      "248               Sub-Saharan Africa                   0  \n"
     ]
    },
    {
     "name": "stderr",
     "output_type": "stream",
     "text": [
      "C:\\Users\\s\\AppData\\Local\\Temp/ipykernel_28192/34629507.py:14: SettingWithCopyWarning: \n",
      "A value is trying to be set on a copy of a slice from a DataFrame.\n",
      "Try using .loc[row_indexer,col_indexer] = value instead\n",
      "\n",
      "See the caveats in the documentation: https://pandas.pydata.org/pandas-docs/stable/user_guide/indexing.html#returning-a-view-versus-a-copy\n",
      "  datanegara0['kumulatif produksi'] = kumulatifnegara0\n",
      "C:\\Users\\s\\AppData\\Roaming\\Python\\Python39\\site-packages\\pandas\\core\\frame.py:5039: SettingWithCopyWarning: \n",
      "A value is trying to be set on a copy of a slice from a DataFrame\n",
      "\n",
      "See the caveats in the documentation: https://pandas.pydata.org/pandas-docs/stable/user_guide/indexing.html#returning-a-view-versus-a-copy\n",
      "  return super().rename(\n"
     ]
    }
   ],
   "source": [
    "prodtahun = df.loc[df['tahun'] == tahun]\n",
    "prodtahun4 = prodtahun.loc[prodtahun['produksi'] == 0]\n",
    "kodenegara0 = prodtahun4['kode_negara'].tolist()\n",
    "datanegara0 = newdata[newdata['alpha-3'].isin(kodenegara0)]\n",
    "namanegara0 = datanegara0['name'].tolist()\n",
    "kumulatifnegara0=[]\n",
    "for i in namanegara0:\n",
    "    if i not in kode_dict.keys():\n",
    "        continue\n",
    "    group = dict(tuple(df.groupby('kode_negara')))\n",
    "    df_negara = (group[kode_dict[i]])\n",
    "    negara0 = df_negara['produksi'].astype(int).sum()\n",
    "    kumulatifnegara0.append(negara0)\n",
    "datanegara0['kumulatif produksi'] = kumulatifnegara0\n",
    "datanegara0.rename(columns={'name':'negara','alpha-3':'kode Negara'}, inplace=True)\n",
    "print(datanegara0)"
   ]
  },
  {
   "cell_type": "code",
   "execution_count": null,
   "metadata": {},
   "outputs": [
    {
     "data": {
      "image/png": "[encoded data removed]",
      "text/plain": [
       "<Figure size 432x288 with 1 Axes>"
      ]
     },
     "metadata": {},
     "output_type": "display_data"
    }
   ],
   "source": [
    "kumulatif0 = datanegara0[datanegara0['kumulatif produksi']>.001]['kumulatif produksi'].tolist()\n",
    "kumulatifga0 = datanegara0[datanegara0['kumulatif produksi'].isin(kumulatif0)]\n",
    "negarayg0 = kumulatifga0['negara'].tolist()\n",
    "kumulatifprodga0 = kumulatifga0['kumulatif produksi'].tolist()\n",
    "colors = cmap.colors[:len(kumulatifprodga0)]\n",
    "fig, ax = plt.subplots()\n",
    "def label_function(val):\n",
    "    return f'{val / 100 * sum(kumulatifprodga0):.0f}'\n",
    "patches, labels, texts = ax.pie(kumulatifprodga0, autopct=label_function, startangle=45, colors = colors, textprops={'fontsize': 8})\n",
    "centre_circle = plt.Circle((0,0),0.70,fc='white')\n",
    "fig = plt.gcf()\n",
    "fig.gca().add_artist(centre_circle)\n",
    "ax.axis('equal')  \n",
    "ax.legend(patches, negarayg0 , loc=\"center left\", bbox_to_anchor=(1, 0.5))\n",
    "plt.tight_layout()\n",
    "plt.show()"
   ]
  }
 ],
 "metadata": {
  "interpreter": {
   "hash": "201ef9045d1e569690d4ef19acedf47659d611d6c0ceca4c00974770fb24d6e6"
  },
  "kernelspec": {
   "display_name": "Python 3.9.7 64-bit ('base': conda)",
   "language": "python",
   "name": "python3"
  },
  "language_info": {
   "codemirror_mode": {
    "name": "ipython",
    "version": 3
   },
   "file_extension": ".py",
   "mimetype": "text/x-python",
   "name": "python",
   "nbconvert_exporter": "python",
   "pygments_lexer": "ipython3",
   "version": "3.9.7"
  },
  "orig_nbformat": 4
 },
 "nbformat": 4,
 "nbformat_minor": 2
}
